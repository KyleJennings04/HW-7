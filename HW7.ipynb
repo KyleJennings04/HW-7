{
 "cells": [
  {
   "cell_type": "markdown",
   "metadata": {},
   "source": [
    "## Intro to Computer Programming - Homework 7 - Fall 2024 - Wilmington College  \n",
    "\n",
    "**Due Date: November 18, 2024, 23:59**"
   ]
  },
  {
   "cell_type": "markdown",
   "metadata": {},
   "source": [
    "### Exercise 1: Is it a vowel?\n",
    "\n",
    "Given the string, `char_input`, which is a one-character string object, check if the character is a vowel (`a`, `e`, `i`, `o`, `u`) regardless of its case (uppercase or lowercase). If it is a vowel, print `True`. Otherwise, print `False`.\n"
   ]
  },
  {
   "cell_type": "code",
   "execution_count": null,
   "metadata": {},
   "outputs": [
    {
     "name": "stdout",
     "output_type": "stream",
     "text": [
      "True\n"
     ]
    }
   ],
   "source": [
    "# -------------------- Solution ----------------------- #\n",
    "# Write your code here:\n",
    "char_input = input(\"Enter a one character string: \")\n",
    "while len(char_input) > 1:\n",
    "    char_input = input(\"Enter a one character string: \")\n",
    "if char_input.lower() in \"aeiou\":\n",
    "    print(\"True\")\n",
    "else:\n",
    "    print(\"False\")"
   ]
  },
  {
   "cell_type": "markdown",
   "metadata": {},
   "source": [
    "### Exercise 2: Editing the string at specified locations\n",
    "\n",
    "Given a string `string_variable` and a list of indices, replace the characters at the specified indices with an asterisk (`*`) and print the resulting string.\n",
    "\n",
    "```\n",
    "string_variable = \"example\"\n",
    "indices = [1, 3, 5]\n",
    "```\n",
    "\n",
    "**Output:**\n",
    "```\n",
    "e*a*p*e\n",
    "```"
   ]
  },
  {
   "cell_type": "code",
   "execution_count": 16,
   "metadata": {},
   "outputs": [
    {
     "name": "stdout",
     "output_type": "stream",
     "text": [
      "e*a*p*e\n"
     ]
    }
   ],
   "source": [
    "# -------------------- Solution ----------------------- #\n",
    "# Write your code here:\n",
    "string_variable = \"example\"\n",
    "indices = [1, 3, 5]\n",
    "for i in indices:\n",
    "    string_variable = string_variable[:i] + \"*\" + string_variable[i+1:]\n",
    "print(string_variable)"
   ]
  },
  {
   "cell_type": "markdown",
   "metadata": {},
   "source": [
    "### Exercise 3: Finding All Vowels\n",
    "\n",
    "Write a program that, given a string, counts the number of vowel characters (`a`, `e`, `i`, `o`, `u`) in the string. Also, print the given string with all vowels removed.\n",
    "\n",
    "**Input:**\n",
    "\n",
    "```\n",
    "\"This is a wonderful day\"\n",
    "```\n",
    "\n",
    "**Expected Output:**\n",
    "\n",
    "```\n",
    "7\n",
    "Ths s  wndrfl dy\n",
    "```"
   ]
  },
  {
   "cell_type": "code",
   "execution_count": 20,
   "metadata": {},
   "outputs": [
    {
     "name": "stdout",
     "output_type": "stream",
     "text": [
      "7\n",
      "Ths s  wndrfl dy\n"
     ]
    }
   ],
   "source": [
    "# -------------------- Solution ----------------------- #\n",
    "# Write your code here:\n",
    "string = \"This is a wonderful day\"\n",
    "count = 0\n",
    "for letter in string:\n",
    "    if letter in \"aeiou\":\n",
    "        string = string[:string.index(letter)] + \"\" + string[string.index(letter)+1:]\n",
    "        count += 1 \n",
    "print(count)\n",
    "print(string)"
   ]
  },
  {
   "cell_type": "markdown",
   "metadata": {},
   "source": [
    "### Exercise 4: Formatted Table\n",
    "\n",
    "Create a Python program to display a formatted table of a company's employee details. The table should include columns for \"Employee Name,\" \"Department,\" and \"Salary.\"\n",
    "\n",
    "\n",
    "```\n",
    "Employee Name        Department           Salary    \n",
    "--------------------------------------------------\n",
    "Alice Smith          Marketing            $75,000   \n",
    "Bob Johnson          Engineering          $85,000   \n",
    "Charlie Brown        HR                   $70,000\n",
    "```"
   ]
  },
  {
   "cell_type": "code",
   "execution_count": 27,
   "metadata": {},
   "outputs": [
    {
     "name": "stdout",
     "output_type": "stream",
     "text": [
      "Employee Name         Department             Salary\n",
      "---------------------------------------------------\n",
      "Alice Smith           Marketing             $75,000\n",
      "Bob Johnson          Engineering            $85,000\n",
      "Charlie Brown             HR                $70,000\n"
     ]
    }
   ],
   "source": [
    "# -------------------- Solution ----------------------- #\n",
    "# Write your code here:\n",
    "template = \"{name:<18}{dep:^18}{salary:>15}\"\n",
    "print(template.format(name = \"Employee Name\", dep = \"Department\", salary = \"Salary\"))\n",
    "print(\"---------------------------------------------------\")\n",
    "print(template.format(name = \"Alice Smith\", dep = \"Marketing\", salary = \"$75,000\"))\n",
    "print(template.format(name = \"Bob Johnson\", dep = \"Engineering\", salary = \"$85,000\"))\n",
    "print(template.format(name = \"Charlie Brown\", dep = \"HR\", salary = \"$70,000\"))"
   ]
  },
  {
   "cell_type": "markdown",
   "metadata": {},
   "source": [
    "### Exercise 4: Favorite Books Order\n",
    "Write a Python program that allows the user to input their favorite books one by one. The user should enter each book on a separate line. When finished, the user will enter a blank line. The program will output a sentence based on the number of books entered:\n",
    "\n",
    "- If the user inputs nothing, the program should output:  \n",
    "  \"You have no favorite books.\"\n",
    "  \n",
    "- If the user inputs one book, the program should output:  \n",
    "  \"Your favorite book is [book].\"\n",
    "  \n",
    "- If the user inputs two books, the program should output:  \n",
    "  \"Your favorite books are [book1] and [book2].\"\n",
    "  \n",
    "- If the user inputs three or more books, the program should output:  \n",
    "  \"Your favorite books are [book1], [book2], and [book3].\""
   ]
  },
  {
   "cell_type": "code",
   "execution_count": 30,
   "metadata": {},
   "outputs": [
    {
     "name": "stdout",
     "output_type": "stream",
     "text": [
      "Your favorite books are Hunger Games and IT\n"
     ]
    }
   ],
   "source": [
    "# -------------------- Solution ----------------------- #\n",
    "# Write your code here:\n",
    "fav_book = input(\"Enter a favorite book: \")\n",
    "books = []\n",
    "while fav_book != \"\":\n",
    "    books.append(fav_book)\n",
    "    fav_book = input(\"Enter another favorite book (enter '' to stop): \")\n",
    "if len(books) == 0:\n",
    "    print(\"You have no favorite books\")\n",
    "elif len(books) == 1:\n",
    "    print(f\"Your favorite book is {books[0]}\")\n",
    "elif len(books) == 2:\n",
    "    print(f\"Your favorite books are {books[0]} and {books[1]}\")\n",
    "else:\n",
    "    books[-1] = \"and \" + books[-1]\n",
    "    print(f\"Your favorite books are {\", \".join(books)}\")"
   ]
  }
 ],
 "metadata": {
  "kernelspec": {
   "display_name": "Python 3",
   "language": "python",
   "name": "python3"
  },
  "language_info": {
   "codemirror_mode": {
    "name": "ipython",
    "version": 3
   },
   "file_extension": ".py",
   "mimetype": "text/x-python",
   "name": "python",
   "nbconvert_exporter": "python",
   "pygments_lexer": "ipython3",
   "version": "3.12.1"
  }
 },
 "nbformat": 4,
 "nbformat_minor": 2
}
